{
 "cells": [
  {
   "cell_type": "code",
   "execution_count": 1,
   "id": "0c64980b",
   "metadata": {},
   "outputs": [],
   "source": [
    "import numpy as np\n",
    "from InnerDeployment.GeneticAlgorithm_cuda import SensorGA\n",
    "# 1. 맵 데이터 불러오기 (예시: numpy 2D 배열)\n",
    "from __MAPS__.MapLoader import MapLoader  # 예시 함수\n",
    "input_map = np.array(MapLoader(\"map_250x280.bot\").MAP)"
   ]
  },
  {
   "cell_type": "code",
   "execution_count": null,
   "id": "46ce83b9",
   "metadata": {},
   "outputs": [],
   "source": [
    "# 2. 파라미터 설정\n",
    "coverage_radius = 45\n",
    "num_generations = 100\n",
    "results_dir = \"./ga_results\"\n",
    "\n",
    "# 3. GA 인스턴스 생성\n",
    "ga = SensorGA(\n",
    "    input_map=input_map,\n",
    "    coverage=45,\n",
    "    generations=100,\n",
    "    results_dir=\"./__RESULTS__\",\n",
    "    initial_population_size=1000,\n",
    "    next_population_size=50,\n",
    "    candidate_population_size=100\n",
    ")"
   ]
  },
  {
   "cell_type": "code",
   "execution_count": null,
   "id": "4fdc7665",
   "metadata": {},
   "outputs": [],
   "source": [
    "# 4. 실행\n",
    "result = ga.run()\n",
    "# 5. 결과 출력\n",
    "print(\"=== Best Result ===\")\n",
    "print(f\"Fitness Score: {result['fitness_score']:.4f}\")\n",
    "print(f\"Number of Sensors: {result['num_sensors']}\")\n",
    "print(f\"Best Chromosome: {result['best_chromosome']}\")"
   ]
  }
 ],
 "metadata": {
  "kernelspec": {
   "display_name": "Python 3",
   "language": "python",
   "name": "python3"
  },
  "language_info": {
   "codemirror_mode": {
    "name": "ipython",
    "version": 3
   },
   "file_extension": ".py",
   "mimetype": "text/x-python",
   "name": "python",
   "nbconvert_exporter": "python",
   "pygments_lexer": "ipython3",
   "version": "3.11.13"
  }
 },
 "nbformat": 4,
 "nbformat_minor": 5
}
