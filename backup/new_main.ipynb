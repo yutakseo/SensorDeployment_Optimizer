{
 "cells": [
  {
   "cell_type": "code",
   "execution_count": null,
   "id": "0c64980b",
   "metadata": {},
   "outputs": [
    {
     "ename": "ModuleNotFoundError",
     "evalue": "No module named 'FitnessFunction.FitnessFunction'",
     "output_type": "error",
     "traceback": [
      "\u001b[1;31m---------------------------------------------------------------------------\u001b[0m",
      "\u001b[1;31mModuleNotFoundError\u001b[0m                       Traceback (most recent call last)",
      "Cell \u001b[1;32mIn[3], line 2\u001b[0m\n\u001b[0;32m      1\u001b[0m \u001b[38;5;28;01mimport\u001b[39;00m\u001b[38;5;250m \u001b[39m\u001b[38;5;21;01mnumpy\u001b[39;00m\u001b[38;5;250m \u001b[39m\u001b[38;5;28;01mas\u001b[39;00m\u001b[38;5;250m \u001b[39m\u001b[38;5;21;01mnp\u001b[39;00m\n\u001b[1;32m----> 2\u001b[0m \u001b[38;5;28;01mfrom\u001b[39;00m\u001b[38;5;250m \u001b[39m\u001b[38;5;21;01mInnerDeployment\u001b[39;00m\u001b[38;5;21;01m.\u001b[39;00m\u001b[38;5;21;01mGeneticAlgorithm_cuda\u001b[39;00m\u001b[38;5;250m \u001b[39m\u001b[38;5;28;01mimport\u001b[39;00m SensorGA\n\u001b[0;32m      3\u001b[0m \u001b[38;5;66;03m# 1. 맵 데이터 불러오기 (예시: numpy 2D 배열)\u001b[39;00m\n\u001b[0;32m      4\u001b[0m \u001b[38;5;28;01mfrom\u001b[39;00m\u001b[38;5;250m \u001b[39m\u001b[38;5;21;01m__MAPS__\u001b[39;00m\u001b[38;5;21;01m.\u001b[39;00m\u001b[38;5;21;01mMapLoader\u001b[39;00m\u001b[38;5;250m \u001b[39m\u001b[38;5;28;01mimport\u001b[39;00m MapLoader  \u001b[38;5;66;03m# 예시 함수\u001b[39;00m\n",
      "File \u001b[1;32md:\\__________Workspace__________\\SensorDeployment_Optimizer\\InnerDeployment\\GeneticAlgorithm_cuda.py:6\u001b[0m\n\u001b[0;32m      3\u001b[0m \u001b[38;5;28;01mimport\u001b[39;00m\u001b[38;5;250m \u001b[39m\u001b[38;5;21;01mos\u001b[39;00m\u001b[38;5;241m,\u001b[39m\u001b[38;5;250m \u001b[39m\u001b[38;5;21;01msys\u001b[39;00m\u001b[38;5;241m,\u001b[39m\u001b[38;5;250m \u001b[39m\u001b[38;5;21;01mcsv\u001b[39;00m\n\u001b[0;32m      4\u001b[0m \u001b[38;5;28;01mimport\u001b[39;00m\u001b[38;5;250m \u001b[39m\u001b[38;5;21;01mtorch\u001b[39;00m\n\u001b[1;32m----> 6\u001b[0m \u001b[38;5;28;01mfrom\u001b[39;00m\u001b[38;5;250m \u001b[39m\u001b[38;5;21;01mFitnessFunction\u001b[39;00m\u001b[38;5;21;01m.\u001b[39;00m\u001b[38;5;21;01mFitnessFunction\u001b[39;00m\u001b[38;5;250m \u001b[39m\u001b[38;5;28;01mimport\u001b[39;00m fitnessFunc, rankSensors, extractUncovered\n\u001b[0;32m      7\u001b[0m \u001b[38;5;28;01mfrom\u001b[39;00m\u001b[38;5;250m \u001b[39m\u001b[38;5;21;01mSensorModule\u001b[39;00m\u001b[38;5;21;01m.\u001b[39;00m\u001b[38;5;21;01mSensor_cuda\u001b[39;00m\u001b[38;5;250m \u001b[39m\u001b[38;5;28;01mimport\u001b[39;00m Sensor\n\u001b[0;32m     10\u001b[0m \u001b[38;5;28;01mclass\u001b[39;00m\u001b[38;5;250m \u001b[39m\u001b[38;5;21;01mSensorGA\u001b[39;00m:\n",
      "\u001b[1;31mModuleNotFoundError\u001b[0m: No module named 'FitnessFunction.FitnessFunction'"
     ]
    }
   ],
   "source": [
    "import numpy as np\n",
    "from InnerDeployment.GeneticAlgorithm_cuda import SensorGA\n",
    "# 1. 맵 데이터 불러오기 (예시: numpy 2D 배열)\n",
    "from Tools.MapLoader import MapLoader  # 예시 함수\n",
    "input_map = np.array(MapLoader(\"map_250x280.bot\").MAP)"
   ]
  },
  {
   "cell_type": "code",
   "execution_count": 2,
   "id": "46ce83b9",
   "metadata": {},
   "outputs": [],
   "source": [
    "# 2. 파라미터 설정\n",
    "coverage_radius = 45\n",
    "num_generations = 100\n",
    "results_dir = \"./ga_results\"\n",
    "\n",
    "# 3. GA 인스턴스 생성\n",
    "ga = SensorGA(\n",
    "    input_map=input_map,\n",
    "    coverage=45,\n",
    "    generations=100,\n",
    "    results_dir=\"./__RESULTS__\",\n",
    "    initial_population_size=1000,\n",
    "    next_population_size=50,\n",
    "    candidate_population_size=100\n",
    ")"
   ]
  },
  {
   "cell_type": "code",
   "execution_count": null,
   "id": "4fdc7665",
   "metadata": {},
   "outputs": [],
   "source": [
    "# 4. 실행\n",
    "result = ga.run()\n",
    "# 5. 결과 출력\n",
    "print(\"=== Best Result ===\")\n",
    "print(f\"Fitness Score: {result['fitness_score']:.4f}\")\n",
    "print(f\"Number of Sensors: {result['num_sensors']}\")\n",
    "print(f\"Best Chromosome: {result['best_chromosome']}\")"
   ]
  }
 ],
 "metadata": {
  "kernelspec": {
   "display_name": "Python 3",
   "language": "python",
   "name": "python3"
  },
  "language_info": {
   "codemirror_mode": {
    "name": "ipython",
    "version": 3
   },
   "file_extension": ".py",
   "mimetype": "text/x-python",
   "name": "python",
   "nbconvert_exporter": "python",
   "pygments_lexer": "ipython3",
<<<<<<< HEAD
   "version": "3.12.3"
=======
   "version": "3.10.0"
>>>>>>> 5855942c31b49822148f2270ac6487e7f4d52fbb
  }
 },
 "nbformat": 4,
 "nbformat_minor": 5
}
