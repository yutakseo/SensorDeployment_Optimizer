{
 "cells": [
  {
   "cell_type": "code",
   "execution_count": 1,
   "id": "7c5088c3",
   "metadata": {},
   "outputs": [],
   "source": [
    "from Tools.MapLoader import MapLoader\n",
    "from Tools.PlotTools import VisualTool"
   ]
  },
  {
   "cell_type": "code",
   "execution_count": 2,
   "id": "e31f15d6",
   "metadata": {},
   "outputs": [],
   "source": [
    "plt = VisualTool(show=False,size=(24,16))"
   ]
  },
  {
   "cell_type": "code",
   "execution_count": 3,
   "id": "d996b27d",
   "metadata": {},
   "outputs": [
    {
     "name": "stdout",
     "output_type": "stream",
     "text": [
      "그래프 저장 완료 : workspace/__RESULTS__/large/jet_map.png\n"
     ]
    }
   ],
   "source": [
    "entire_map=MapLoader(\"map_1100x570.large\").load()\n",
    "plt.showJetMap(title=\"Ganjin-Gwangju\",map_data=entire_map, save_path=\"workspace/__RESULTS__/large\")"
   ]
  },
  {
   "cell_type": "code",
   "execution_count": 4,
   "id": "554453dc",
   "metadata": {},
   "outputs": [
    {
     "name": "stdout",
     "output_type": "stream",
     "text": [
      "그래프 저장 완료 : workspace/__RESULTS__/280250top/jet_map.png\n"
     ]
    }
   ],
   "source": [
    "map_280x250_top=MapLoader(\"map_280x250.top\").load()\n",
    "plt.showJetMap(title=\"Ganjin-Gwangju\",map_data=map_280x250_top, save_path=\"workspace/__RESULTS__/280250top\")"
   ]
  },
  {
   "cell_type": "code",
   "execution_count": 5,
   "id": "42f53c26",
   "metadata": {},
   "outputs": [
    {
     "name": "stdout",
     "output_type": "stream",
     "text": [
      "그래프 저장 완료 : workspace/__RESULTS__/280250mid/jet_map.png\n"
     ]
    }
   ],
   "source": [
    "map_280x250_mid=MapLoader(\"map_280x250.mid\").load()\n",
    "plt.showJetMap(title=\"Ganjin-Gwangju\",map_data=map_280x250_mid,save_path=\"workspace/__RESULTS__/280250mid\")"
   ]
  },
  {
   "cell_type": "code",
   "execution_count": 6,
   "id": "d63af33f",
   "metadata": {},
   "outputs": [
    {
     "name": "stdout",
     "output_type": "stream",
     "text": [
      "그래프 저장 완료 : workspace/__RESULTS__/280250bot/jet_map.png\n"
     ]
    }
   ],
   "source": [
    "map_280x250_bot=MapLoader(\"map_280x250.bot\").load()\n",
    "plt.showJetMap(title=\"Ganjin-Gwangju\",map_data=map_280x250_bot, save_path=\"workspace/__RESULTS__/280250bot\")"
   ]
  },
  {
   "cell_type": "code",
   "execution_count": 7,
   "id": "f90b979e",
   "metadata": {},
   "outputs": [
    {
     "name": "stdout",
     "output_type": "stream",
     "text": [
      "그래프 저장 완료 : workspace/__RESULTS__/200200top/jet_map.png\n"
     ]
    }
   ],
   "source": [
    "map_200x200_top=MapLoader(\"map_200x200.top\").load()\n",
    "plt.showJetMap(title=\"Ganjin-Gwangju\",map_data=map_200x200_top, save_path=\"workspace/__RESULTS__/200200top\")"
   ]
  },
  {
   "cell_type": "code",
   "execution_count": 8,
   "id": "9bbd5439",
   "metadata": {},
   "outputs": [
    {
     "name": "stdout",
     "output_type": "stream",
     "text": [
      "그래프 저장 완료 : workspace/__RESULTS__/200200mid/jet_map.png\n"
     ]
    }
   ],
   "source": [
    "map_200x200_mid=MapLoader(\"map_200x200.mid\").load()\n",
    "plt.showJetMap(title=\"Ganjin-Gwangju\",map_data=map_200x200_mid, save_path=\"workspace/__RESULTS__/200200mid\")"
   ]
  },
  {
   "cell_type": "code",
   "execution_count": 9,
   "id": "3b363df0",
   "metadata": {},
   "outputs": [
    {
     "name": "stdout",
     "output_type": "stream",
     "text": [
      "그래프 저장 완료 : workspace/__RESULTS__/200200bot/jet_map.png\n"
     ]
    }
   ],
   "source": [
    "map_200x200_bot=MapLoader(\"map_200x200.bot\").load()\n",
    "plt.showJetMap(title=\"Ganjin-Gwangju\",map_data=map_200x200_bot, save_path=\"workspace/__RESULTS__/200200bot\")"
   ]
  },
  {
   "cell_type": "code",
   "execution_count": 10,
   "id": "12eb2e5c",
   "metadata": {},
   "outputs": [
    {
     "name": "stdout",
     "output_type": "stream",
     "text": [
      "그래프 저장 완료 : workspace/__RESULTS__/100100top/jet_map.png\n"
     ]
    }
   ],
   "source": [
    "map_100x100_top=MapLoader(\"map_100x100.top\").load()\n",
    "plt.showJetMap(title=\"Ganjin-Gwangju\",map_data=map_100x100_top, save_path=\"workspace/__RESULTS__/100100top\")"
   ]
  },
  {
   "cell_type": "code",
   "execution_count": 11,
   "id": "abca65b9",
   "metadata": {},
   "outputs": [
    {
     "name": "stdout",
     "output_type": "stream",
     "text": [
      "그래프 저장 완료 : workspace/__RESULTS__/100100mid/jet_map.png\n"
     ]
    }
   ],
   "source": [
    "map_100x100_mid=MapLoader(\"map_100x100.mid\").load()\n",
    "plt.showJetMap(title=\"Ganjin-Gwangju\",map_data=map_100x100_mid, save_path=\"workspace/__RESULTS__/100100mid\")"
   ]
  },
  {
   "cell_type": "code",
   "execution_count": 12,
   "id": "d93842b1",
   "metadata": {},
   "outputs": [
    {
     "name": "stdout",
     "output_type": "stream",
     "text": [
      "그래프 저장 완료 : workspace/__RESULTS__/100100bot/jet_map.png\n"
     ]
    }
   ],
   "source": [
    "map_100x100_bot=MapLoader(\"map_100x100.bot\").load()\n",
    "plt.showJetMap(title=\"Ganjin-Gwangju\",map_data=map_100x100_bot, save_path=\"workspace/__RESULTS__/100100bot\")"
   ]
  },
  {
   "cell_type": "code",
   "execution_count": 13,
   "id": "9ee74099",
   "metadata": {},
   "outputs": [
    {
     "name": "stdout",
     "output_type": "stream",
     "text": [
      "그래프 저장 완료 : workspace/__RESULTS__/5050top/jet_map.png\n"
     ]
    }
   ],
   "source": [
    "map_50x50_top=MapLoader(\"map_50x50.top\").load()\n",
    "plt.showJetMap(title=\"Ganjin-Gwangju\",map_data=map_50x50_top, save_path=\"workspace/__RESULTS__/5050top\")"
   ]
  },
  {
   "cell_type": "code",
   "execution_count": 14,
   "id": "06f9158e",
   "metadata": {},
   "outputs": [
    {
     "name": "stdout",
     "output_type": "stream",
     "text": [
      "그래프 저장 완료 : workspace/__RESULTS__/5050mid/jet_map.png\n"
     ]
    }
   ],
   "source": [
    "map_50x50_mid=MapLoader(\"map_50x50.mid\").load()\n",
    "plt.showJetMap(title=\"Ganjin-Gwangju\",map_data=map_50x50_mid, save_path=\"workspace/__RESULTS__/5050mid\")"
   ]
  },
  {
   "cell_type": "code",
   "execution_count": 15,
   "id": "af022fb8",
   "metadata": {},
   "outputs": [
    {
     "name": "stdout",
     "output_type": "stream",
     "text": [
      "그래프 저장 완료 : workspace/__RESULTS__/5050bot/jet_map.png\n"
     ]
    }
   ],
   "source": [
    "map_50x50_bot=MapLoader(\"map_50x50.bot\").load()\n",
    "plt.showJetMap(title=\"Ganjin-Gwangju\",map_data=map_50x50_bot, save_path=\"workspace/__RESULTS__/5050bot\")"
   ]
  }
 ],
 "metadata": {
  "kernelspec": {
   "display_name": "Python 3",
   "language": "python",
   "name": "python3"
  },
  "language_info": {
   "codemirror_mode": {
    "name": "ipython",
    "version": 3
   },
   "file_extension": ".py",
   "mimetype": "text/x-python",
   "name": "python",
   "nbconvert_exporter": "python",
   "pygments_lexer": "ipython3",
   "version": "3.10.12"
  }
 },
 "nbformat": 4,
 "nbformat_minor": 5
}
