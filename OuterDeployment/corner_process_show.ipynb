{
 "cells": [
  {
   "cell_type": "code",
   "execution_count": 1,
   "id": "b34ed2ee",
   "metadata": {},
   "outputs": [],
   "source": [
    "import os\n",
    "import numpy as np\n",
    "import matplotlib.pyplot as plt\n",
    "from HarrisCorner import *\n",
    "\n",
    "# 너의 HarrisCorner 클래스 안에 추가\n",
    "def debug_maps(self, map, block_size=3, ksize=3, k=0.05, threshold=0.1, dilate_size=5):\n",
    "    # 1) 블러\n",
    "    blurred = self.gaussianBlur(map)\n",
    "\n",
    "    # 2) 해리스 응답\n",
    "    harris_response = self.harrisCorner(blurred, block_size, ksize, k, threshold)\n",
    "\n",
    "    # 3) NMS\n",
    "    th = threshold * harris_response.max()\n",
    "    nms = self.non_max_suppression(harris_response, th, dilate_size=dilate_size)\n",
    "\n",
    "    # 4) 코너 좌표 (x, y)\n",
    "    corners = self.extract(nms)\n",
    "\n",
    "    return blurred, harris_response, nms, corners\n",
    "\n",
    "\n",
    "def plot_harris_pipeline(map_nd,\n",
    "                         save_dir=\"__RESULTS__\",\n",
    "                         filename=\"harris_pipeline\",\n",
    "                         block_size=3, ksize=3, k=0.05, threshold=0.1, dilate_size=5,\n",
    "                         corner_radius=2):\n",
    "    os.makedirs(save_dir, exist_ok=True)\n",
    "\n",
    "    hc = HarrisCorner(map_nd)\n",
    "    blurred, harris, nms, corners = hc.debug_maps(\n",
    "        map=map_nd,\n",
    "        block_size=block_size, ksize=ksize, k=k,\n",
    "        threshold=threshold, dilate_size=dilate_size\n",
    "    )\n",
    "\n",
    "    # 해리스 응답 시각화용 정규화 (0~1)\n",
    "    h_min, h_max = float(harris.min()), float(harris.max())\n",
    "    h_norm = (harris - h_min) / (h_max - h_min + 1e-9)\n",
    "\n",
    "    # 1x3 패널 생성\n",
    "    fig, axes = plt.subplots(1, 3, figsize=(18, 6), dpi=200)\n",
    "\n",
    "    # 1) 블러 맵\n",
    "    axes[0].imshow(blurred, cmap='gray', interpolation='nearest', origin='upper')\n",
    "    # 2) 해리스 응답 맵(정규화)\n",
    "    axes[1].imshow(h_norm, cmap='jet', interpolation='nearest', origin='upper')\n",
    "    # 3) NMS + 코너\n",
    "    axes[2].imshow(nms, cmap='gray', interpolation='nearest', origin='upper')\n",
    "\n",
    "    # 코너 표시 (x, y) 기준. origin='upper'에 맞춰 그대로 뿌리면 OK\n",
    "    for (x, y) in corners:\n",
    "        circ = plt.Circle((x, y), radius=corner_radius,\n",
    "                          edgecolor='red', facecolor='none', linewidth=0.8)\n",
    "        axes[2].add_patch(circ)\n",
    "\n",
    "    # 축/테두리/여백 제거\n",
    "    for ax in axes:\n",
    "        ax.axis('off')\n",
    "    fig.subplots_adjust(0, 0, 1, 1, wspace=0.0, hspace=0.0)\n",
    "\n",
    "    # 저장 (여백 완전 제거)\n",
    "    out_path = os.path.join(save_dir, f\"{filename}.png\")\n",
    "    fig.savefig(out_path, bbox_inches='tight', pad_inches=0)\n",
    "    plt.close(fig)\n",
    "    print(f\"[Saved] {out_path}\")\n"
   ]
  },
  {
   "cell_type": "code",
   "execution_count": 2,
   "id": "bc80e161",
   "metadata": {},
   "outputs": [
    {
     "name": "stdout",
     "output_type": "stream",
     "text": [
      "[Saved] __RESULTS__/corner_debug\\top_100x100_pipeline.png\n"
     ]
    }
   ],
   "source": [
    "import sys, os\n",
    "sys.path.append(os.path.dirname(os.path.abspath(\"D:\\__________Workspace__________\\SensorDeployment_Optimizer\\Tools\")))\n",
    "# 또는 프로젝트 루트 직접 지정\n",
    "sys.path.append(\"/workspace\")  # 예시\n",
    "from Tools.MapLoader import MapLoader\n",
    "\n",
    "\n",
    "MAP = MapLoader(\"map_100x100.top\").MAP\n",
    "plot_harris_pipeline(MAP, save_dir=\"__RESULTS__/corner_debug\", filename=\"top_100x100_pipeline\")\n"
   ]
  },
  {
   "cell_type": "code",
   "execution_count": null,
   "id": "0f1e8154",
   "metadata": {},
   "outputs": [],
   "source": [
    "from HarrisCorner import HarrisCorner\n",
    "\n",
    "hc = HarrisCorner(MAP)\n",
    "blurred = hc.gaussianBlur(MAP)  # 가우시안 블러 결과\n",
    "\n",
    "vt = VisualTool(save_dir=\"__RESULTS__/corner_debug\", figsize=(12, 8), dpi=300)\n",
    "vt.showJetMap(blurred, cmap='gray', filename=\"top_100x100_blur_gray\")  # 그레이 버전\n",
    "vt.showJetMap(blurred, cmap='jet',  filename=\"top_100x100_blur_jet\")   # 컬러 히트맵 버전\n"
   ]
  },
  {
   "cell_type": "code",
   "execution_count": 1,
   "id": "c171e842",
   "metadata": {},
   "outputs": [
    {
     "ename": "NameError",
     "evalue": "name 'MAP' is not defined",
     "output_type": "error",
     "traceback": [
      "\u001b[1;31m---------------------------------------------------------------------------\u001b[0m",
      "\u001b[1;31mNameError\u001b[0m                                 Traceback (most recent call last)",
      "Cell \u001b[1;32mIn[1], line 3\u001b[0m\n\u001b[0;32m      1\u001b[0m \u001b[38;5;28;01mfrom\u001b[39;00m\u001b[38;5;250m \u001b[39m\u001b[38;5;21;01mHarrisCorner\u001b[39;00m\u001b[38;5;250m \u001b[39m\u001b[38;5;28;01mimport\u001b[39;00m HarrisCorner\n\u001b[1;32m----> 3\u001b[0m hc \u001b[38;5;241m=\u001b[39m HarrisCorner(\u001b[43mMAP\u001b[49m)\n\u001b[0;32m      4\u001b[0m blurred \u001b[38;5;241m=\u001b[39m hc\u001b[38;5;241m.\u001b[39mgaussianBlur(MAP)  \u001b[38;5;66;03m# 가우시안 블러 결과\u001b[39;00m\n\u001b[0;32m      6\u001b[0m vt \u001b[38;5;241m=\u001b[39m VisualTool(save_dir\u001b[38;5;241m=\u001b[39m\u001b[38;5;124m\"\u001b[39m\u001b[38;5;124m__RESULTS__/corner_debug\u001b[39m\u001b[38;5;124m\"\u001b[39m, figsize\u001b[38;5;241m=\u001b[39m(\u001b[38;5;241m12\u001b[39m, \u001b[38;5;241m8\u001b[39m), dpi\u001b[38;5;241m=\u001b[39m\u001b[38;5;241m300\u001b[39m)\n",
      "\u001b[1;31mNameError\u001b[0m: name 'MAP' is not defined"
     ]
    }
   ],
   "source": [
    "from HarrisCorner import HarrisCorner\n",
    "\n",
    "hc = HarrisCorner(MAP)\n",
    "blurred = hc.gaussianBlur(MAP)  # 가우시안 블러 결과\n",
    "\n",
    "vt = VisualTool(save_dir=\"__RESULTS__/corner_debug\", figsize=(12, 8), dpi=300)\n",
    "vt.showJetMap(blurred, cmap='gray', filename=\"top_100x100_blur_gray\")  # 그레이 버전\n",
    "vt.showJetMap(blurred, cmap='jet',  filename=\"top_100x100_blur_jet\")   # 컬러 히트맵 버전\n"
   ]
  }
 ],
 "metadata": {
  "kernelspec": {
   "display_name": "Python 3",
   "language": "python",
   "name": "python3"
  },
  "language_info": {
   "codemirror_mode": {
    "name": "ipython",
    "version": 3
   },
   "file_extension": ".py",
   "mimetype": "text/x-python",
   "name": "python",
   "nbconvert_exporter": "python",
   "pygments_lexer": "ipython3",
   "version": "3.10.0"
  }
 },
 "nbformat": 4,
 "nbformat_minor": 5
}
