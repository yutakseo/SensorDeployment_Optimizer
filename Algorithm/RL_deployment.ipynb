{
 "cells": [
  {
   "cell_type": "code",
   "execution_count": null,
   "id": "ec89dbac",
   "metadata": {},
   "outputs": [],
   "source": [
    "import torch\n",
    "import torch.nn as nn\n",
    "import torch.optim as optimim\n",
    "import torch.nn.functional as Func\n",
    "import sys, os, numpy as np\n",
    "import importlib.util\n",
    "import matplotlib.pyplot as plt\n"
   ]
  },
  {
   "cell_type": "code",
   "execution_count": 3,
   "id": "24740c14",
   "metadata": {},
   "outputs": [
    {
     "ename": "NameError",
     "evalue": "name 'importlib' is not defined",
     "output_type": "error",
     "traceback": [
      "\u001b[0;31m---------------------------------------------------------------------------\u001b[0m",
      "\u001b[0;31mNameError\u001b[0m                                 Traceback (most recent call last)",
      "Cell \u001b[0;32mIn[3], line 5\u001b[0m\n\u001b[1;32m      2\u001b[0m top_py_path \u001b[38;5;241m=\u001b[39m \u001b[38;5;124m\"\u001b[39m\u001b[38;5;124m/workspace/__MAPS__/200x200/top.py\u001b[39m\u001b[38;5;124m\"\u001b[39m  \u001b[38;5;66;03m# ← 여기를 네 환경에 맞게 확인!\u001b[39;00m\n\u001b[1;32m      4\u001b[0m \u001b[38;5;66;03m# 2. importlib을 통해 top.py 모듈 로딩\u001b[39;00m\n\u001b[0;32m----> 5\u001b[0m spec \u001b[38;5;241m=\u001b[39m \u001b[43mimportlib\u001b[49m\u001b[38;5;241m.\u001b[39mutil\u001b[38;5;241m.\u001b[39mspec_from_file_location(\u001b[38;5;124m\"\u001b[39m\u001b[38;5;124mtop\u001b[39m\u001b[38;5;124m\"\u001b[39m, top_py_path)\n\u001b[1;32m      6\u001b[0m top \u001b[38;5;241m=\u001b[39m importlib\u001b[38;5;241m.\u001b[39mutil\u001b[38;5;241m.\u001b[39mmodule_from_spec(spec)\n\u001b[1;32m      7\u001b[0m spec\u001b[38;5;241m.\u001b[39mloader\u001b[38;5;241m.\u001b[39mexec_module(top)\n",
      "\u001b[0;31mNameError\u001b[0m: name 'importlib' is not defined"
     ]
    }
   ],
   "source": [
    "# 1. 정확한 경로 입력\n",
    "top_py_path = \"/workspace/__MAPS__/200x200/top.py\"  # ← 여기를 네 환경에 맞게 확인!\n",
    "\n",
    "# 2. importlib을 통해 top.py 모듈 로딩\n",
    "spec = importlib.util.spec_from_file_location(\"top\", top_py_path)\n",
    "top = importlib.util.module_from_spec(spec)\n",
    "spec.loader.exec_module(top)\n",
    "\n",
    "# 3. top.py 안에 MAP이 정의되어 있는지 확인\n",
    "print(\"top.py loaded, keys:\", dir(top))  # 이걸로 확인해보자!\n",
    "\n",
    "# 4. MAP 가져오기\n",
    "MAP = np.array(top.MAP)\n",
    "print(\"MAP loaded successfully, shape:\", MAP.shape)"
   ]
  }
 ],
 "metadata": {
  "kernelspec": {
   "display_name": "Python 3",
   "language": "python",
   "name": "python3"
  },
  "language_info": {
   "codemirror_mode": {
    "name": "ipython",
    "version": 3
   },
   "file_extension": ".py",
   "mimetype": "text/x-python",
   "name": "python",
   "nbconvert_exporter": "python",
   "pygments_lexer": "ipython3",
   "version": "3.10.12"
  }
 },
 "nbformat": 4,
 "nbformat_minor": 5
}
