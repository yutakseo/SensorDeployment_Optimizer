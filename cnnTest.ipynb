{
 "cells": [
  {
   "cell_type": "code",
   "execution_count": 4,
   "id": "f17469f3",
   "metadata": {},
   "outputs": [],
   "source": [
    "from Tools.FitnessFunction import Convolution\n",
    "from Tools.MapLoader import MapLoader\n",
    "from Tools.PlotTools import VisualTool\n"
   ]
  },
  {
   "cell_type": "code",
   "execution_count": null,
   "id": "d1c6ace4",
   "metadata": {},
   "outputs": [],
   "source": [
    "MAP = MapLoader(map_name=\"map_280x250.bot\").load()\n",
    "vis = VisualTool()"
   ]
  }
 ],
 "metadata": {
  "kernelspec": {
   "display_name": "Python 3",
   "language": "python",
   "name": "python3"
  },
  "language_info": {
   "codemirror_mode": {
    "name": "ipython",
    "version": 3
   },
   "file_extension": ".py",
   "mimetype": "text/x-python",
   "name": "python",
   "nbconvert_exporter": "python",
   "pygments_lexer": "ipython3",
   "version": "3.10.12"
  }
 },
 "nbformat": 4,
 "nbformat_minor": 5
}
